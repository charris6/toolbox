{
  "nbformat": 4,
  "nbformat_minor": 0,
  "metadata": {
    "colab": {
      "provenance": [],
      "authorship_tag": "ABX9TyM9tU48mKCsaGbrCaAhicoq",
      "include_colab_link": true
    },
    "kernelspec": {
      "name": "python3",
      "display_name": "Python 3"
    },
    "language_info": {
      "name": "python"
    }
  },
  "cells": [
    {
      "cell_type": "markdown",
      "metadata": {
        "id": "view-in-github",
        "colab_type": "text"
      },
      "source": [
        "<a href=\"https://colab.research.google.com/github/charris6/toolbox/blob/main/Toolbox.ipynb\" target=\"_parent\"><img src=\"https://colab.research.google.com/assets/colab-badge.svg\" alt=\"Open In Colab\"/></a>"
      ]
    },
    {
      "cell_type": "markdown",
      "source": [
        "Add nulls to describe function:"
      ],
      "metadata": {
        "id": "loju15b2qi1P"
      }
    },
    {
      "cell_type": "code",
      "execution_count": null,
      "metadata": {
        "id": "lpRpTgXlqfZv"
      },
      "outputs": [],
      "source": [
        "def add_nulls(dataframe):\n",
        "  \"\"\"This adds the sum of the null values to a transposed describe function of a dataframe.\"\"\"\n",
        "  result = dataframe.describe().transpose()\n",
        "  result['nulls'] = dataframe.isnull().sum()\n",
        "  return result"
      ]
    },
    {
      "cell_type": "markdown",
      "source": [
        "Filter to list null rows:"
      ],
      "metadata": {
        "id": "xLxPHFdVr_QN"
      }
    },
    {
      "cell_type": "code",
      "source": [
        "def null_rows(dataframe):\n",
        "  \"\"\"This pares down a list of all nulls to display only rows that have null values.\"\"\"\n",
        "  null_list = dataframe.isnull().sum()\n",
        "  filter = null_list > 0\n",
        "  return null_list[filter]"
      ],
      "metadata": {
        "id": "NMkiXYAir38f"
      },
      "execution_count": null,
      "outputs": []
    },
    {
      "cell_type": "markdown",
      "source": [
        "Slow down animated plotly plots:"
      ],
      "metadata": {
        "id": "3aBgqAZGKlFb"
      }
    },
    {
      "cell_type": "code",
      "source": [
        "fig.layout.updatemenus[0].buttons[0].args[1][\"frame\"][\"duration\"] = 2000\n",
        "fig.layout.updatemenus[0].buttons[0].args[1]['transition']['duration'] = 2000"
      ],
      "metadata": {
        "id": "DiXL7yKQKknY"
      },
      "execution_count": null,
      "outputs": []
    },
    {
      "cell_type": "markdown",
      "source": [
        "Function to loop through dataframe data:"
      ],
      "metadata": {
        "id": "I-EKl92RQgSj"
      }
    },
    {
      "cell_type": "code",
      "source": [
        "def dataframe_stats(df):\n",
        "  for i in df:\n",
        "    print(f'DATAFRAME: {i}')\n",
        "    print('\\nShape:')\n",
        "    print(dict_df[i].shape)\n",
        "    print('\\nDescription:')\n",
        "    if 0 not in dict_df[i].shape:\n",
        "      print(dict_df[i].describe().transpose())\n",
        "    print('\\nInfo:')\n",
        "    print(dict_df[i].info())\n",
        "    print('\\nNulls:')\n",
        "    print(dict_df[i].isnull().sum()*10)\n",
        "    print('\\n')"
      ],
      "metadata": {
        "id": "q8CROL2qQfQj"
      },
      "execution_count": null,
      "outputs": []
    },
    {
      "cell_type": "markdown",
      "source": [
        "Same as above, except writing it to a file for a large dataset:"
      ],
      "metadata": {
        "id": "htoVm0F5L5fa"
      }
    },
    {
      "cell_type": "code",
      "source": [
        "def dataframe_stats_file(df, output_file):\n",
        "    with open(output_file, 'w') as f:\n",
        "        for i in df:\n",
        "            f.write(f'DATAFRAME: {i}\\n')\n",
        "            f.write('\\nShape:\\n')\n",
        "            f.write(str(dict_df[i].shape) + '\\n')\n",
        "            f.write('\\nDescription:\\n')\n",
        "            if 0 not in dict_df[i].shape:\n",
        "                f.write(str(dict_df[i].describe().transpose()) + '\\n')\n",
        "            f.write('\\nInfo:\\n')\n",
        "            f.write(str(dict_df[i].info()) + '\\n')\n",
        "            f.write('\\nNulls:\\n')\n",
        "            f.write(str(dict_df[i].isnull().sum()*10) + '\\n')\n",
        "            f.write('\\n\\n')\n",
        "\n",
        "# Usage\n",
        "dataframe_stats(dict_df, 'output.txt')"
      ],
      "metadata": {
        "id": "sYx87PViMA1d"
      },
      "execution_count": null,
      "outputs": []
    },
    {
      "cell_type": "code",
      "source": [],
      "metadata": {
        "id": "FBJVQ_AAL4qo"
      },
      "execution_count": null,
      "outputs": []
    },
    {
      "cell_type": "markdown",
      "source": [
        "Loop for getting nulls in a large dataset:"
      ],
      "metadata": {
        "id": "kNFpttWfk_a8"
      }
    },
    {
      "cell_type": "code",
      "source": [
        "for i in housing_data:\n",
        "  if housing_data[i].isnull().sum() != 0:\n",
        "    print(f\"{i}: {housing_data[i].isnull().sum()}\")"
      ],
      "metadata": {
        "id": "kU5dX0Qxk9JD"
      },
      "execution_count": null,
      "outputs": []
    }
  ]
}